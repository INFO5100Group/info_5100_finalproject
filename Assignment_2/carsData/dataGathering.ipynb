{
 "metadata": {
  "language_info": {
   "codemirror_mode": {
    "name": "ipython",
    "version": 3
   },
   "file_extension": ".py",
   "mimetype": "text/x-python",
   "name": "python",
   "nbconvert_exporter": "python",
   "pygments_lexer": "ipython3",
   "version": "3.8.4-final"
  },
  "orig_nbformat": 2,
  "kernelspec": {
   "name": "Python 3.8.4 64-bit",
   "display_name": "Python 3.8.4 64-bit",
   "metadata": {
    "interpreter": {
     "hash": "2db524e06e9f5f4ffedc911c917cb75e12dbc923643829bf417064a77eb14d37"
    }
   }
  }
 },
 "nbformat": 4,
 "nbformat_minor": 2,
 "cells": [
  {
   "cell_type": "code",
   "execution_count": 1,
   "metadata": {},
   "outputs": [],
   "source": [
    "import pandas as pd\n",
    "import random\n",
    "import datetime"
   ]
  },
  {
   "cell_type": "code",
   "execution_count": 2,
   "metadata": {},
   "outputs": [],
   "source": [
    "data = pd.read_csv(\"USA_cars_datasets.csv\")"
   ]
  },
  {
   "cell_type": "code",
   "execution_count": 3,
   "metadata": {},
   "outputs": [],
   "source": [
    "header = ['isAvaliable','make','manufactureYear','seatNum','seriesNum','model','location','updateTime','maintanceExpreiedDate']"
   ]
  },
  {
   "cell_type": "code",
   "execution_count": 4,
   "metadata": {},
   "outputs": [],
   "source": [
    "def createRandDate(start, end):\n",
    "    time_between = end - start\n",
    "    days_between = time_between.days\n",
    "    random_num_of_days = random.randrange(days_between)\n",
    "    random_date = start + datetime.timedelta(days = random_num_of_days)\n",
    "    return random_date"
   ]
  },
  {
   "cell_type": "code",
   "execution_count": 5,
   "metadata": {
    "tags": []
   },
   "outputs": [],
   "source": [
    "all_cars = []\n",
    "for index, row in data.iterrows():\n",
    "    each_car = []\n",
    "\n",
    "    # is avaliabel\n",
    "    each_car.append(True if row['price'] >= 10000 else False) \n",
    "\n",
    "    # make\n",
    "    each_car.append(row['brand'])\n",
    "\n",
    "    # manufactureYear\n",
    "    each_car.append(row['year'])\n",
    "\n",
    "    # setNum\n",
    "    each_car.append(random.choice([1,2,3,4,5]))\n",
    "\n",
    "    # SeriesNum\n",
    "    each_car.append(row['vin'].strip())\n",
    "\n",
    "    # model\n",
    "    each_car.append(row['model'].strip())\n",
    "\n",
    "    # location\n",
    "    each_car.append(row['state'].strip())\n",
    "\n",
    "    updateTime = createRandDate(datetime.date(2010,1,1),datetime.date.today())\n",
    "    maintanceExpreiedDate = createRandDate(updateTime,datetime.date(2025,12,1))\n",
    "\n",
    "    # updateTime \n",
    "    each_car.append(str(updateTime.month) + '/' + str(updateTime.day) + '/' + str(updateTime.year) )\n",
    "\n",
    "    # maintanceExpreiedDate\n",
    "    each_car.append(str(maintanceExpreiedDate.month) + '/' + str(maintanceExpreiedDate.day) + '/' + str(maintanceExpreiedDate.year) )\n",
    "\n",
    "    # append to list\n",
    "    all_cars.append(each_car)\n"
   ]
  },
  {
   "cell_type": "code",
   "execution_count": 6,
   "metadata": {},
   "outputs": [
    {
     "output_type": "execute_result",
     "data": {
      "text/plain": [
       "      isAvaliable       make  manufactureYear  seatNum          seriesNum  \\\n",
       "0           False     toyota             2008        3  jtezu11f88k007763   \n",
       "1           False       ford             2011        1  2fmdk3gc4bbb02217   \n",
       "2           False      dodge             2018        4  3c4pdcgg5jt346413   \n",
       "3            True       ford             2014        1  1ftfw1et4efc23745   \n",
       "4            True  chevrolet             2018        1  3gcpcrec2jg473991   \n",
       "...           ...        ...              ...      ...                ...   \n",
       "2494        False     nissan             2019        1  3n1cn7ap9kl880319   \n",
       "2495        False     nissan             2018        5  3n1cn7ap5jl884088   \n",
       "2496        False     nissan             2018        2  3n1cn7ap9jl884191   \n",
       "2497        False     nissan             2018        3  3n1cn7ap3jl883263   \n",
       "2498        False     nissan             2018        3  3n1cn7ap4jl884311   \n",
       "\n",
       "        model    location updateTime maintanceExpreiedDate  \n",
       "0     cruiser  new jersey  1/26/2016            10/27/2018  \n",
       "1          se   tennessee  4/15/2016              7/4/2022  \n",
       "2         mpv     georgia   4/7/2017            11/16/2021  \n",
       "3        door    virginia   5/4/2010             11/5/2022  \n",
       "4        1500     florida  5/13/2017            10/11/2023  \n",
       "...       ...         ...        ...                   ...  \n",
       "2494    versa  california   8/4/2015             7/23/2025  \n",
       "2495    versa     florida  7/16/2020             2/12/2022  \n",
       "2496    versa     florida  10/4/2017            10/13/2022  \n",
       "2497    versa     florida  8/14/2012             2/22/2019  \n",
       "2498    versa     florida   6/3/2018             8/27/2023  \n",
       "\n",
       "[2499 rows x 9 columns]"
      ],
      "text/html": "<div>\n<style scoped>\n    .dataframe tbody tr th:only-of-type {\n        vertical-align: middle;\n    }\n\n    .dataframe tbody tr th {\n        vertical-align: top;\n    }\n\n    .dataframe thead th {\n        text-align: right;\n    }\n</style>\n<table border=\"1\" class=\"dataframe\">\n  <thead>\n    <tr style=\"text-align: right;\">\n      <th></th>\n      <th>isAvaliable</th>\n      <th>make</th>\n      <th>manufactureYear</th>\n      <th>seatNum</th>\n      <th>seriesNum</th>\n      <th>model</th>\n      <th>location</th>\n      <th>updateTime</th>\n      <th>maintanceExpreiedDate</th>\n    </tr>\n  </thead>\n  <tbody>\n    <tr>\n      <th>0</th>\n      <td>False</td>\n      <td>toyota</td>\n      <td>2008</td>\n      <td>3</td>\n      <td>jtezu11f88k007763</td>\n      <td>cruiser</td>\n      <td>new jersey</td>\n      <td>1/26/2016</td>\n      <td>10/27/2018</td>\n    </tr>\n    <tr>\n      <th>1</th>\n      <td>False</td>\n      <td>ford</td>\n      <td>2011</td>\n      <td>1</td>\n      <td>2fmdk3gc4bbb02217</td>\n      <td>se</td>\n      <td>tennessee</td>\n      <td>4/15/2016</td>\n      <td>7/4/2022</td>\n    </tr>\n    <tr>\n      <th>2</th>\n      <td>False</td>\n      <td>dodge</td>\n      <td>2018</td>\n      <td>4</td>\n      <td>3c4pdcgg5jt346413</td>\n      <td>mpv</td>\n      <td>georgia</td>\n      <td>4/7/2017</td>\n      <td>11/16/2021</td>\n    </tr>\n    <tr>\n      <th>3</th>\n      <td>True</td>\n      <td>ford</td>\n      <td>2014</td>\n      <td>1</td>\n      <td>1ftfw1et4efc23745</td>\n      <td>door</td>\n      <td>virginia</td>\n      <td>5/4/2010</td>\n      <td>11/5/2022</td>\n    </tr>\n    <tr>\n      <th>4</th>\n      <td>True</td>\n      <td>chevrolet</td>\n      <td>2018</td>\n      <td>1</td>\n      <td>3gcpcrec2jg473991</td>\n      <td>1500</td>\n      <td>florida</td>\n      <td>5/13/2017</td>\n      <td>10/11/2023</td>\n    </tr>\n    <tr>\n      <th>...</th>\n      <td>...</td>\n      <td>...</td>\n      <td>...</td>\n      <td>...</td>\n      <td>...</td>\n      <td>...</td>\n      <td>...</td>\n      <td>...</td>\n      <td>...</td>\n    </tr>\n    <tr>\n      <th>2494</th>\n      <td>False</td>\n      <td>nissan</td>\n      <td>2019</td>\n      <td>1</td>\n      <td>3n1cn7ap9kl880319</td>\n      <td>versa</td>\n      <td>california</td>\n      <td>8/4/2015</td>\n      <td>7/23/2025</td>\n    </tr>\n    <tr>\n      <th>2495</th>\n      <td>False</td>\n      <td>nissan</td>\n      <td>2018</td>\n      <td>5</td>\n      <td>3n1cn7ap5jl884088</td>\n      <td>versa</td>\n      <td>florida</td>\n      <td>7/16/2020</td>\n      <td>2/12/2022</td>\n    </tr>\n    <tr>\n      <th>2496</th>\n      <td>False</td>\n      <td>nissan</td>\n      <td>2018</td>\n      <td>2</td>\n      <td>3n1cn7ap9jl884191</td>\n      <td>versa</td>\n      <td>florida</td>\n      <td>10/4/2017</td>\n      <td>10/13/2022</td>\n    </tr>\n    <tr>\n      <th>2497</th>\n      <td>False</td>\n      <td>nissan</td>\n      <td>2018</td>\n      <td>3</td>\n      <td>3n1cn7ap3jl883263</td>\n      <td>versa</td>\n      <td>florida</td>\n      <td>8/14/2012</td>\n      <td>2/22/2019</td>\n    </tr>\n    <tr>\n      <th>2498</th>\n      <td>False</td>\n      <td>nissan</td>\n      <td>2018</td>\n      <td>3</td>\n      <td>3n1cn7ap4jl884311</td>\n      <td>versa</td>\n      <td>florida</td>\n      <td>6/3/2018</td>\n      <td>8/27/2023</td>\n    </tr>\n  </tbody>\n</table>\n<p>2499 rows × 9 columns</p>\n</div>"
     },
     "metadata": {},
     "execution_count": 6
    }
   ],
   "source": [
    "df = pd.DataFrame(all_cars, columns = header)\n",
    "df"
   ]
  },
  {
   "cell_type": "code",
   "execution_count": 7,
   "metadata": {},
   "outputs": [],
   "source": [
    "df.to_csv('out.csv',index=False)"
   ]
  }
 ]
}